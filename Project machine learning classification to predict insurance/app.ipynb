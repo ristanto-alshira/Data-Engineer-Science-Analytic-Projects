{
 "cells": [
  {
   "cell_type": "markdown",
   "metadata": {},
   "source": [
    "# Homework 6 FTDE (Machine Learning) - RISTANTO"
   ]
  },
  {
   "cell_type": "code",
   "execution_count": 22,
   "metadata": {},
   "outputs": [],
   "source": [
    "#import libraries\n",
    "import time\n",
    "import pickle\n",
    "\n",
    "import pandas as pd\n",
    "import numpy as np\n",
    "import warnings\n",
    "warnings.filterwarnings('ignore')\n",
    "\n",
    "from sklearn.neighbors import KNeighborsClassifier\n",
    "from sklearn.ensemble import RandomForestClassifier\n",
    "from sklearn.linear_model import LogisticRegression\n",
    "from sklearn.naive_bayes import GaussianNB\n",
    "#from sklearn.svm import SVC\n",
    "from sklearn.model_selection import train_test_split\n",
    "from sklearn.metrics import classification_report\n"
   ]
  },
  {
   "cell_type": "code",
   "execution_count": 23,
   "metadata": {},
   "outputs": [
    {
     "data": {
      "text/html": [
       "<div>\n",
       "<style scoped>\n",
       "    .dataframe tbody tr th:only-of-type {\n",
       "        vertical-align: middle;\n",
       "    }\n",
       "\n",
       "    .dataframe tbody tr th {\n",
       "        vertical-align: top;\n",
       "    }\n",
       "\n",
       "    .dataframe thead th {\n",
       "        text-align: right;\n",
       "    }\n",
       "</style>\n",
       "<table border=\"1\" class=\"dataframe\">\n",
       "  <thead>\n",
       "    <tr style=\"text-align: right;\">\n",
       "      <th></th>\n",
       "      <th>id</th>\n",
       "      <th>Gender</th>\n",
       "      <th>Age</th>\n",
       "      <th>Driving_License</th>\n",
       "      <th>Region_Code</th>\n",
       "      <th>Previously_Insured</th>\n",
       "      <th>Vehicle_Age</th>\n",
       "      <th>Vehicle_Damage</th>\n",
       "      <th>Annual_Premium</th>\n",
       "      <th>Policy_Sales_Channel</th>\n",
       "      <th>Vintage</th>\n",
       "      <th>Response</th>\n",
       "    </tr>\n",
       "  </thead>\n",
       "  <tbody>\n",
       "    <tr>\n",
       "      <th>0</th>\n",
       "      <td>1</td>\n",
       "      <td>Male</td>\n",
       "      <td>44</td>\n",
       "      <td>1</td>\n",
       "      <td>28.0</td>\n",
       "      <td>0</td>\n",
       "      <td>&gt; 2 Years</td>\n",
       "      <td>Yes</td>\n",
       "      <td>40454.0</td>\n",
       "      <td>26.0</td>\n",
       "      <td>217</td>\n",
       "      <td>1</td>\n",
       "    </tr>\n",
       "  </tbody>\n",
       "</table>\n",
       "</div>"
      ],
      "text/plain": [
       "   id Gender  Age  Driving_License  Region_Code  Previously_Insured  \\\n",
       "0   1   Male   44                1         28.0                   0   \n",
       "\n",
       "  Vehicle_Age Vehicle_Damage  Annual_Premium  Policy_Sales_Channel  Vintage  \\\n",
       "0   > 2 Years            Yes         40454.0                  26.0      217   \n",
       "\n",
       "   Response  \n",
       "0         1  "
      ]
     },
     "execution_count": 23,
     "metadata": {},
     "output_type": "execute_result"
    }
   ],
   "source": [
    "src = 'D:/Bootcamp data engineer/Materi/Machine Learning/Prediction Insurance.csv'\n",
    "data = pd.read_csv(src)\n",
    "data.head(1)"
   ]
  },
  {
   "cell_type": "code",
   "execution_count": 24,
   "metadata": {},
   "outputs": [
    {
     "data": {
      "text/html": [
       "<div>\n",
       "<style scoped>\n",
       "    .dataframe tbody tr th:only-of-type {\n",
       "        vertical-align: middle;\n",
       "    }\n",
       "\n",
       "    .dataframe tbody tr th {\n",
       "        vertical-align: top;\n",
       "    }\n",
       "\n",
       "    .dataframe thead th {\n",
       "        text-align: right;\n",
       "    }\n",
       "</style>\n",
       "<table border=\"1\" class=\"dataframe\">\n",
       "  <thead>\n",
       "    <tr style=\"text-align: right;\">\n",
       "      <th></th>\n",
       "      <th>id</th>\n",
       "      <th>Gender</th>\n",
       "      <th>Age</th>\n",
       "      <th>Driving_License</th>\n",
       "      <th>Region_Code</th>\n",
       "      <th>Previously_Insured</th>\n",
       "      <th>Vehicle_Age</th>\n",
       "      <th>Vehicle_Damage</th>\n",
       "      <th>Annual_Premium</th>\n",
       "      <th>Policy_Sales_Channel</th>\n",
       "      <th>Vintage</th>\n",
       "      <th>Response</th>\n",
       "    </tr>\n",
       "  </thead>\n",
       "  <tbody>\n",
       "    <tr>\n",
       "      <th>0</th>\n",
       "      <td>1</td>\n",
       "      <td>Male</td>\n",
       "      <td>44</td>\n",
       "      <td>1</td>\n",
       "      <td>28.0</td>\n",
       "      <td>0</td>\n",
       "      <td>&gt; 2 Years</td>\n",
       "      <td>Yes</td>\n",
       "      <td>40454.0</td>\n",
       "      <td>26.0</td>\n",
       "      <td>217</td>\n",
       "      <td>1</td>\n",
       "    </tr>\n",
       "    <tr>\n",
       "      <th>1</th>\n",
       "      <td>2</td>\n",
       "      <td>Male</td>\n",
       "      <td>76</td>\n",
       "      <td>1</td>\n",
       "      <td>3.0</td>\n",
       "      <td>0</td>\n",
       "      <td>1-2 Year</td>\n",
       "      <td>No</td>\n",
       "      <td>33536.0</td>\n",
       "      <td>26.0</td>\n",
       "      <td>183</td>\n",
       "      <td>0</td>\n",
       "    </tr>\n",
       "    <tr>\n",
       "      <th>2</th>\n",
       "      <td>3</td>\n",
       "      <td>Male</td>\n",
       "      <td>47</td>\n",
       "      <td>1</td>\n",
       "      <td>28.0</td>\n",
       "      <td>0</td>\n",
       "      <td>&gt; 2 Years</td>\n",
       "      <td>Yes</td>\n",
       "      <td>38294.0</td>\n",
       "      <td>26.0</td>\n",
       "      <td>27</td>\n",
       "      <td>1</td>\n",
       "    </tr>\n",
       "  </tbody>\n",
       "</table>\n",
       "</div>"
      ],
      "text/plain": [
       "   id Gender  Age  Driving_License  Region_Code  Previously_Insured  \\\n",
       "0   1   Male   44                1         28.0                   0   \n",
       "1   2   Male   76                1          3.0                   0   \n",
       "2   3   Male   47                1         28.0                   0   \n",
       "\n",
       "  Vehicle_Age Vehicle_Damage  Annual_Premium  Policy_Sales_Channel  Vintage  \\\n",
       "0   > 2 Years            Yes         40454.0                  26.0      217   \n",
       "1    1-2 Year             No         33536.0                  26.0      183   \n",
       "2   > 2 Years            Yes         38294.0                  26.0       27   \n",
       "\n",
       "   Response  \n",
       "0         1  \n",
       "1         0  \n",
       "2         1  "
      ]
     },
     "execution_count": 24,
     "metadata": {},
     "output_type": "execute_result"
    }
   ],
   "source": [
    "data.head(3)"
   ]
  },
  {
   "cell_type": "code",
   "execution_count": 25,
   "metadata": {},
   "outputs": [
    {
     "data": {
      "text/plain": [
       "array([28.,  3., 11., 41., 33.,  6., 35., 50., 15., 45.,  8., 36., 30.,\n",
       "       26., 16., 47., 48., 19., 39., 23., 37.,  5., 17.,  2.,  7., 29.,\n",
       "       46., 27., 25., 13., 18., 20., 49., 22., 44.,  0.,  9., 31., 12.,\n",
       "       34., 21., 10., 14., 38., 24., 40., 43., 32.,  4., 51., 42.,  1.,\n",
       "       52.])"
      ]
     },
     "execution_count": 25,
     "metadata": {},
     "output_type": "execute_result"
    }
   ],
   "source": [
    "data['Region_Code'].unique()"
   ]
  },
  {
   "cell_type": "code",
   "execution_count": 26,
   "metadata": {},
   "outputs": [
    {
     "data": {
      "text/plain": [
       "(381109, 12)"
      ]
     },
     "execution_count": 26,
     "metadata": {},
     "output_type": "execute_result"
    }
   ],
   "source": [
    "data.shape"
   ]
  },
  {
   "cell_type": "code",
   "execution_count": 27,
   "metadata": {},
   "outputs": [
    {
     "data": {
      "text/html": [
       "<div>\n",
       "<style scoped>\n",
       "    .dataframe tbody tr th:only-of-type {\n",
       "        vertical-align: middle;\n",
       "    }\n",
       "\n",
       "    .dataframe tbody tr th {\n",
       "        vertical-align: top;\n",
       "    }\n",
       "\n",
       "    .dataframe thead th {\n",
       "        text-align: right;\n",
       "    }\n",
       "</style>\n",
       "<table border=\"1\" class=\"dataframe\">\n",
       "  <thead>\n",
       "    <tr style=\"text-align: right;\">\n",
       "      <th></th>\n",
       "      <th>Gender</th>\n",
       "      <th>Age</th>\n",
       "      <th>Driving_License</th>\n",
       "      <th>Response</th>\n",
       "    </tr>\n",
       "  </thead>\n",
       "  <tbody>\n",
       "    <tr>\n",
       "      <th>0</th>\n",
       "      <td>1</td>\n",
       "      <td>44</td>\n",
       "      <td>1</td>\n",
       "      <td>1</td>\n",
       "    </tr>\n",
       "  </tbody>\n",
       "</table>\n",
       "</div>"
      ],
      "text/plain": [
       "   Gender  Age  Driving_License  Response\n",
       "0       1   44                1         1"
      ]
     },
     "execution_count": 27,
     "metadata": {},
     "output_type": "execute_result"
    }
   ],
   "source": [
    "#data preprocessing\n",
    "data = data.drop('id', axis=1)\n",
    "\n",
    "data['Gender'] = data['Gender'].map({'Male':1, 'Female':0})\n",
    "#df_region = pd.get_dummies(data['Region_Code'])\n",
    "\n",
    "df = data[['Gender','Age','Driving_License','Response']]#.merge(df_region, left_index=True, right_index=True)\n",
    "df.head(1)"
   ]
  },
  {
   "cell_type": "code",
   "execution_count": 28,
   "metadata": {},
   "outputs": [
    {
     "name": "stdout",
     "output_type": "stream",
     "text": [
      "Training Time 0.32982563972473145 Sekon.....\n"
     ]
    }
   ],
   "source": [
    "#data modelling\n",
    "X = df.drop('Response', axis=1)\n",
    "y = df['Response']\n",
    "X_train, X_test, y_train, y_test = train_test_split(X,y, test_size=0.2, random_state=0)\n",
    "\n",
    "start = time.time()\n",
    "model = KNeighborsClassifier(n_neighbors=3)\n",
    "model.fit(X_train, y_train)\n",
    "stop = time.time()\n",
    "print(f\"Training Time {stop-start} Sekon.....\")"
   ]
  },
  {
   "cell_type": "code",
   "execution_count": 29,
   "metadata": {},
   "outputs": [
    {
     "name": "stdout",
     "output_type": "stream",
     "text": [
      "  Model        report  precision    recall  f1-score      support\n",
      "0   KNN             0   0.942943  0.883445  0.912225  71348.00000\n",
      "1   KNN             1   0.113055  0.217481  0.148772   4874.00000\n",
      "2   KNN      accuracy   0.840860  0.840860  0.840860      0.84086\n",
      "3   KNN     macro avg   0.527999  0.550463  0.530498  76222.00000\n",
      "4   KNN  weighted avg   0.889876  0.840860  0.863406  76222.00000\n"
     ]
    }
   ],
   "source": [
    "#model evaluation\n",
    "y_predict = model.predict(X_test)\n",
    "reportKNN = classification_report(y_predict, y_test, output_dict=True)\n",
    "reportKNN = pd.DataFrame(reportKNN).transpose().reset_index()\n",
    "reportKNN['Model'] = 'KNN'\n",
    "cols = list(reportKNN.columns)\n",
    "cols = [cols[-1]] + cols[:-1]  \n",
    "reportKNN = reportKNN[cols]\n",
    "reportKNN = reportKNN.rename(columns={'index':'report'})\n",
    "print(reportKNN)"
   ]
  },
  {
   "cell_type": "code",
   "execution_count": 30,
   "metadata": {},
   "outputs": [
    {
     "name": "stdout",
     "output_type": "stream",
     "text": [
      "Training Time 0.7311954498291016 Sekon.....\n",
      "             Model        report  precision    recall  f1-score       support\n",
      "0  Log. Regression             0   1.000000  0.876991  0.934465  76222.000000\n",
      "1  Log. Regression             1   0.000000  0.000000  0.000000      0.000000\n",
      "2  Log. Regression      accuracy   0.876991  0.876991  0.876991      0.876991\n",
      "3  Log. Regression     macro avg   0.500000  0.438495  0.467232  76222.000000\n",
      "4  Log. Regression  weighted avg   1.000000  0.876991  0.934465  76222.000000\n"
     ]
    }
   ],
   "source": [
    "start = time.time()\n",
    "modelLR = LogisticRegression(max_iter=1000)\n",
    "modelLR.fit(X_train, y_train)\n",
    "stop = time.time()\n",
    "print(f\"Training Time {stop-start} Sekon.....\")\n",
    "\n",
    "y_predict = modelLR.predict(X_test)\n",
    "reportLR = classification_report(y_predict, y_test, output_dict=True)\n",
    "reportLR = pd.DataFrame(reportLR).transpose().reset_index()\n",
    "reportLR['Model'] = 'Log. Regression'\n",
    "cols = list(reportLR.columns)\n",
    "cols = [cols[-1]] + cols[:-1] \n",
    "reportLR = reportLR[cols]\n",
    "reportLR = reportLR.rename(columns={'index':'report'})\n",
    "print(reportLR)"
   ]
  },
  {
   "cell_type": "code",
   "execution_count": 31,
   "metadata": {},
   "outputs": [
    {
     "name": "stdout",
     "output_type": "stream",
     "text": [
      "Training Time 0.043407440185546875 Sekon.....\n",
      "         Model        report  precision    recall  f1-score       support\n",
      "0  Naive Bayes             0   1.000000  0.876991  0.934465  76222.000000\n",
      "1  Naive Bayes             1   0.000000  0.000000  0.000000      0.000000\n",
      "2  Naive Bayes      accuracy   0.876991  0.876991  0.876991      0.876991\n",
      "3  Naive Bayes     macro avg   0.500000  0.438495  0.467232  76222.000000\n",
      "4  Naive Bayes  weighted avg   1.000000  0.876991  0.934465  76222.000000\n"
     ]
    }
   ],
   "source": [
    "start = time.time()\n",
    "modelNB = GaussianNB()\n",
    "modelNB.fit(X_train, y_train)\n",
    "stop = time.time()\n",
    "print(f\"Training Time {stop-start} Sekon.....\")\n",
    "\n",
    "y_predict = modelNB.predict(X_test)\n",
    "reportNB = classification_report(y_predict, y_test, output_dict=True)\n",
    "reportNB = pd.DataFrame(reportNB).transpose().reset_index()\n",
    "reportNB['Model'] = 'Naive Bayes'\n",
    "cols = list(reportNB.columns)\n",
    "cols = [cols[-1]] + cols[:-1] \n",
    "reportNB = reportNB[cols]\n",
    "reportNB = reportNB.rename(columns={'index':'report'})\n",
    "print(reportNB)"
   ]
  },
  {
   "cell_type": "code",
   "execution_count": 32,
   "metadata": {},
   "outputs": [
    {
     "name": "stdout",
     "output_type": "stream",
     "text": [
      "Training Time 8.185216903686523 Sekon.....\n",
      "           Model        report  precision    recall  f1-score       support\n",
      "0  Random Forest             0   1.000000  0.876991  0.934465  76222.000000\n",
      "1  Random Forest             1   0.000000  0.000000  0.000000      0.000000\n",
      "2  Random Forest      accuracy   0.876991  0.876991  0.876991      0.876991\n",
      "3  Random Forest     macro avg   0.500000  0.438495  0.467232  76222.000000\n",
      "4  Random Forest  weighted avg   1.000000  0.876991  0.934465  76222.000000\n"
     ]
    }
   ],
   "source": [
    "start = time.time()\n",
    "modelRF = RandomForestClassifier(n_estimators=100, random_state=42)\n",
    "modelRF.fit(X_train, y_train)\n",
    "stop = time.time()\n",
    "print(f\"Training Time {stop-start} Sekon.....\")\n",
    "\n",
    "y_predict = modelRF.predict(X_test)\n",
    "reportRF = classification_report(y_predict, y_test, output_dict=True)\n",
    "reportRF = pd.DataFrame(reportRF).transpose().reset_index()\n",
    "reportRF['Model'] = 'Random Forest'\n",
    "cols = list(reportRF.columns)\n",
    "cols = [cols[-1]] + cols[:-1] \n",
    "reportRF = reportRF[cols]\n",
    "reportRF = reportRF.rename(columns={'index':'report'})\n",
    "print(reportRF)"
   ]
  },
  {
   "cell_type": "code",
   "execution_count": 33,
   "metadata": {},
   "outputs": [
    {
     "name": "stdout",
     "output_type": "stream",
     "text": [
      "              Model        report  precision    recall  f1-score       support\n",
      "0               KNN             0   0.942943  0.883445  0.912225  71348.000000\n",
      "1               KNN             1   0.113055  0.217481  0.148772   4874.000000\n",
      "2               KNN      accuracy   0.840860  0.840860  0.840860      0.840860\n",
      "3               KNN     macro avg   0.527999  0.550463  0.530498  76222.000000\n",
      "4               KNN  weighted avg   0.889876  0.840860  0.863406  76222.000000\n",
      "5   Log. Regression             0   1.000000  0.876991  0.934465  76222.000000\n",
      "6   Log. Regression             1   0.000000  0.000000  0.000000      0.000000\n",
      "7   Log. Regression      accuracy   0.876991  0.876991  0.876991      0.876991\n",
      "8   Log. Regression     macro avg   0.500000  0.438495  0.467232  76222.000000\n",
      "9   Log. Regression  weighted avg   1.000000  0.876991  0.934465  76222.000000\n",
      "10      Naive Bayes             0   1.000000  0.876991  0.934465  76222.000000\n",
      "11      Naive Bayes             1   0.000000  0.000000  0.000000      0.000000\n",
      "12      Naive Bayes      accuracy   0.876991  0.876991  0.876991      0.876991\n",
      "13      Naive Bayes     macro avg   0.500000  0.438495  0.467232  76222.000000\n",
      "14      Naive Bayes  weighted avg   1.000000  0.876991  0.934465  76222.000000\n",
      "15    Random Forest             0   1.000000  0.876991  0.934465  76222.000000\n",
      "16    Random Forest             1   0.000000  0.000000  0.000000      0.000000\n",
      "17    Random Forest      accuracy   0.876991  0.876991  0.876991      0.876991\n",
      "18    Random Forest     macro avg   0.500000  0.438495  0.467232  76222.000000\n",
      "19    Random Forest  weighted avg   1.000000  0.876991  0.934465  76222.000000\n"
     ]
    }
   ],
   "source": [
    "#List result of evaluations\n",
    "final_results = pd.concat([reportKNN,reportLR,reportNB,reportRF], ignore_index = True)\n",
    "print(final_results)"
   ]
  },
  {
   "cell_type": "markdown",
   "metadata": {},
   "source": [
    "## If we use coding at once"
   ]
  },
  {
   "cell_type": "code",
   "execution_count": 36,
   "metadata": {},
   "outputs": [
    {
     "name": "stdout",
     "output_type": "stream",
     "text": [
      "              Model        report  precision    recall  f1-score       support\n",
      "0               KNN             0   0.883445  0.942943  0.912225  66846.000000\n",
      "1               KNN             1   0.217481  0.113055  0.148772   9376.000000\n",
      "2               KNN      accuracy   0.840860  0.840860  0.840860      0.840860\n",
      "3               KNN     macro avg   0.550463  0.527999  0.530498  76222.000000\n",
      "4               KNN  weighted avg   0.801525  0.840860  0.818313  76222.000000\n",
      "5   Log. Regression             0   0.876991  1.000000  0.934465  66846.000000\n",
      "6   Log. Regression             1   0.000000  0.000000  0.000000   9376.000000\n",
      "7   Log. Regression      accuracy   0.876991  0.876991  0.876991      0.876991\n",
      "8   Log. Regression     macro avg   0.438495  0.500000  0.467232  76222.000000\n",
      "9   Log. Regression  weighted avg   0.769113  0.876991  0.819517  76222.000000\n",
      "10      Naive Bayes             0   0.876991  1.000000  0.934465  66846.000000\n",
      "11      Naive Bayes             1   0.000000  0.000000  0.000000   9376.000000\n",
      "12      Naive Bayes      accuracy   0.876991  0.876991  0.876991      0.876991\n",
      "13      Naive Bayes     macro avg   0.438495  0.500000  0.467232  76222.000000\n",
      "14      Naive Bayes  weighted avg   0.769113  0.876991  0.819517  76222.000000\n",
      "15    Random Forest             0   0.876991  1.000000  0.934465  66846.000000\n",
      "16    Random Forest             1   0.000000  0.000000  0.000000   9376.000000\n",
      "17    Random Forest      accuracy   0.876991  0.876991  0.876991      0.876991\n",
      "18    Random Forest     macro avg   0.438495  0.500000  0.467232  76222.000000\n",
      "19    Random Forest  weighted avg   0.769113  0.876991  0.819517  76222.000000\n"
     ]
    }
   ],
   "source": [
    "models = {'KNN' : KNeighborsClassifier(n_neighbors=3),\n",
    "          'Log. Regression' : LogisticRegression(max_iter=1000),\n",
    "          'Naive Bayes': GaussianNB(),\n",
    "          'Random Forest': RandomForestClassifier(n_estimators=100, random_state=42)\n",
    "          }#'SVM': SVC(kernel='linear', random_state=42)\n",
    "\n",
    "results = []\n",
    "\n",
    "for name, model in models.items():\n",
    "    model.fit(X_train, y_train)\n",
    "    y_pred = model.predict(X_test)\n",
    "    report = classification_report(y_test, y_pred, output_dict=True, zero_division=0)\n",
    "    report_df = pd.DataFrame(report).transpose().reset_index()\n",
    "    report_df['Model'] = name\n",
    "    cols = list(report_df.columns)\n",
    "    cols = [cols[-1]] + cols[:-1]\n",
    "    report_df = report_df[cols]\n",
    "    report_df = report_df.rename(columns={'index':'report'})\n",
    "    results.append(report_df)\n",
    "\n",
    "final_results = pd.concat(results,ignore_index = True)\n",
    "print(final_results)\n"
   ]
  },
  {
   "cell_type": "markdown",
   "metadata": {},
   "source": [
    "## Pickle File\n",
    "For pickle file, beside KNN we can use Naive Bayes (the 3 models after KNN show the same result, but Naive Bayes has the fastest training time). Below the pickle file."
   ]
  },
  {
   "cell_type": "code",
   "execution_count": 35,
   "metadata": {},
   "outputs": [],
   "source": [
    "#model export\n",
    "with open('modelNB.pkl','wb') as file:\n",
    "    pickle.dump(modelNB, file)"
   ]
  }
 ],
 "metadata": {
  "kernelspec": {
   "display_name": "Python 3 (ipykernel)",
   "language": "python",
   "name": "python3"
  },
  "language_info": {
   "codemirror_mode": {
    "name": "ipython",
    "version": 3
   },
   "file_extension": ".py",
   "mimetype": "text/x-python",
   "name": "python",
   "nbconvert_exporter": "python",
   "pygments_lexer": "ipython3",
   "version": "3.11.5"
  }
 },
 "nbformat": 4,
 "nbformat_minor": 4
}
