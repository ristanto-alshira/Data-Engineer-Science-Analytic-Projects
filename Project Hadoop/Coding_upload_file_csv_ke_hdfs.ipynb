{
 "cells": [
  {
   "cell_type": "markdown",
   "metadata": {},
   "source": [
    "HOMEWORK 4"
   ]
  },
  {
   "cell_type": "markdown",
   "metadata": {},
   "source": [
    "1. Install library hdfs"
   ]
  },
  {
   "cell_type": "code",
   "execution_count": null,
   "metadata": {},
   "outputs": [],
   "source": [
    "pip install hdfs"
   ]
  },
  {
   "cell_type": "markdown",
   "metadata": {},
   "source": [
    "2. Buatkan script untuk upload semua file extension .csv ke hdfs dengan folder yang sudah ditentukan (homework)"
   ]
  },
  {
   "cell_type": "code",
   "execution_count": 1,
   "metadata": {},
   "outputs": [
    {
     "name": "stdout",
     "output_type": "stream",
     "text": [
      "File C:\\Hadoop\\hadoop-3.3.6\\result_101_200.csv berhasil diunggah ke /test/homework/result_101_200.csv di HDFS\n",
      "File C:\\Hadoop\\hadoop-3.3.6\\result_1_100.csv berhasil diunggah ke /test/homework/result_1_100.csv di HDFS\n",
      "File C:\\Hadoop\\hadoop-3.3.6\\result_201_300.csv berhasil diunggah ke /test/homework/result_201_300.csv di HDFS\n"
     ]
    }
   ],
   "source": [
    "import os\n",
    "from hdfs import InsecureClient\n",
    "\n",
    "# URL HDFS dan direktori tujuan di HDFS\n",
    "hdfs_url = 'http://localhost:9870'  # Ganti dengan URL HDFS Anda\n",
    "hdfs_directory = '/test/homework'\n",
    "\n",
    "# Lokasi folder lokal yang berisi file .csv\n",
    "local_folder_path = r'C:\\Hadoop\\hadoop-3.3.6'\n",
    "\n",
    "# Membuat client HDFS\n",
    "client = InsecureClient(hdfs_url)\n",
    "\n",
    "# Fungsi untuk mengunggah file ke HDFS\n",
    "def upload_files_to_hdfs(local_folder, hdfs_dir):\n",
    "    try:\n",
    "        for root, _, files in os.walk(local_folder):\n",
    "            for file in files:\n",
    "                if file.endswith('.csv'):\n",
    "                    local_file_path = os.path.join(root, file)\n",
    "                    hdfs_file_path = hdfs_dir + '/' + file\n",
    "                    client.upload(hdfs_file_path, local_file_path, overwrite=True)\n",
    "                    print(f'File {local_file_path} berhasil diunggah ke {hdfs_file_path} di HDFS')\n",
    "    except Exception as e:\n",
    "        print(f'Terjadi kesalahan saat mengunggah file: {e}')\n",
    "\n",
    "# Memanggil fungsi untuk mengunggah file\n",
    "upload_files_to_hdfs(local_folder_path, hdfs_directory)\n"
   ]
  }
 ],
 "metadata": {
  "kernelspec": {
   "display_name": "Python 3",
   "language": "python",
   "name": "python3"
  },
  "language_info": {
   "codemirror_mode": {
    "name": "ipython",
    "version": 3
   },
   "file_extension": ".py",
   "mimetype": "text/x-python",
   "name": "python",
   "nbconvert_exporter": "python",
   "pygments_lexer": "ipython3",
   "version": "3.11.5"
  }
 },
 "nbformat": 4,
 "nbformat_minor": 2
}
